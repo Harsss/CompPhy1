{
 "cells": [
  {
   "cell_type": "code",
   "execution_count": 1,
   "metadata": {},
   "outputs": [],
   "source": [
    "# import numpy as np\n",
    "\n",
    "# xData=np.array([-1,0,3,6,7])\n",
    "# yData=np.array([3,-6,39,822,1611])\n",
    "\n",
    "# def coff(xData,yData):\n",
    "#     m=len(xData)\n",
    "#     a=np.array([3,-6,39,822,1611])\n",
    "#     for k in range(1,m):\n",
    "#         print(a[k:m])\n",
    "        \n",
    "#         a[k:m]= (a[k:m]-a[k-1])/(xData[k:m]-xData[k-1])\n",
    "#         print(a[k:m]);print()\n",
    "#     return a \n"
   ]
  },
  {
   "cell_type": "code",
   "execution_count": 2,
   "metadata": {},
   "outputs": [],
   "source": [
    "# coff(xData,yData)"
   ]
  },
  {
   "cell_type": "code",
   "execution_count": 3,
   "metadata": {},
   "outputs": [],
   "source": [
    "# xData"
   ]
  },
  {
   "cell_type": "code",
   "execution_count": 4,
   "metadata": {},
   "outputs": [],
   "source": [
    "# h=len(xData)"
   ]
  },
  {
   "cell_type": "code",
   "execution_count": 5,
   "metadata": {},
   "outputs": [],
   "source": [
    "# (xData[1:h])"
   ]
  },
  {
   "cell_type": "code",
   "execution_count": 6,
   "metadata": {},
   "outputs": [],
   "source": [
    "# h"
   ]
  },
  {
   "cell_type": "code",
   "execution_count": 7,
   "metadata": {},
   "outputs": [],
   "source": [
    "def divdiftable(x,y,n):\n",
    "    for i in range(1,n):\n",
    "        for j in range(n-i):\n",
    "            y[j][i]=((y[j+1][i-1]-y[j][i-1])/(x[i+j]-x[j]))\n",
    "    return y"
   ]
  },
  {
   "cell_type": "code",
   "execution_count": 8,
   "metadata": {},
   "outputs": [],
   "source": [
    "def Prodterm(rnk, value,x):\n",
    "    req=1\n",
    "    for j in range(rnk):\n",
    "        req=req*(value-x[j])\n",
    "    return req\n",
    "\n",
    "\n",
    "def combinetrm(value, x,y,n):\n",
    "    ans=y[0][0]\n",
    "    for i in range(1,n):\n",
    "        ans=ans+(Prodterm(i,value,x)*y[0][i])\n",
    "    return ans\n",
    "    "
   ]
  },
  {
   "cell_type": "code",
   "execution_count": 9,
   "metadata": {},
   "outputs": [],
   "source": [
    "import numpy as np \n",
    "x=np.array([0.0,0.523,0.785,1.046,1.57,2.093,2.355,2.616,3.147,3.663,3.925,4.186,4.710,5.230,5.495,5.756])\n",
    "\n",
    "n=len(x)\n",
    "y=np.zeros((20,20))"
   ]
  },
  {
   "cell_type": "code",
   "execution_count": 10,
   "metadata": {},
   "outputs": [
    {
     "name": "stdout",
     "output_type": "stream",
     "text": [
      "0.99\n"
     ]
    }
   ],
   "source": [
    "y1=[0.0,0.50,0.707,0.866,1.0,0.866,0.707,0.50,0.0,-0.50,-0.707,-0.866,-1.0,-0.866,-0.707,-0.50]\n",
    "\n",
    "for i in range(0,16):\n",
    "    y[i][0]=y1[i]\n",
    "\n",
    "y=divdiftable(x,y,n)\n",
    "value=(1.4)\n",
    "print(round(combinetrm(value,x,y,n),2))\n",
    "\n",
    "\n"
   ]
  },
  {
   "cell_type": "code",
   "execution_count": 11,
   "metadata": {},
   "outputs": [],
   "source": [
    "# import numpy as np \n",
    "# x=[5,6,9,11]\n",
    "# n=len(x)\n",
    "# y=np.zeros((10,10))\n",
    "# y1=[12,13,14,16]\n",
    "\n",
    "# for i in range(0,n):\n",
    "#     y[i][0]=y1[i]\n",
    "    \n",
    "# y=divdiftable(x,y,n)\n",
    "# value=(7)\n",
    "# print(round(combinetrm(value,x,y,n),2))"
   ]
  },
  {
   "cell_type": "code",
   "execution_count": 12,
   "metadata": {},
   "outputs": [
    {
     "name": "stdout",
     "output_type": "stream",
     "text": [
      "0.0 \t 0.956 \t -0.2114 \t -0.1285 \t 0.0183 \t 0.0126 \t -0.0066 \t 0.0026 \t -0.0004 \t -0.0006 \t 0.0009 \t -0.0008 \t 0.0005 \t -0.0002 \t 0.0001 \t -0.0 \t  \n",
      "0.5 \t 0.7901 \t -0.3459 \t -0.0997 \t 0.0447 \t -0.0029 \t 0.0001 \t 0.0013 \t -0.0024 \t 0.0028 \t -0.0025 \t 0.0015 \t -0.0007 \t 0.0003 \t -0.0001 \t  \n",
      "0.707 \t 0.6092 \t -0.4503 \t -0.0296 \t 0.0394 \t -0.0026 \t 0.0035 \t -0.0064 \t 0.007 \t -0.0062 \t 0.0038 \t -0.0018 \t 0.0008 \t -0.0003 \t  \n",
      "0.866 \t 0.2557 \t -0.489 \t 0.0323 \t 0.0346 \t 0.0057 \t -0.0149 \t 0.0157 \t -0.014 \t 0.0088 \t -0.0043 \t 0.0018 \t -0.0007 \t  \n",
      "1.0 \t -0.2562 \t -0.4467 \t 0.0866 \t 0.0465 \t -0.0333 \t 0.0302 \t -0.0284 \t 0.0184 \t -0.009 \t 0.004 \t -0.0016 \t  \n",
      "0.866 \t -0.6069 \t -0.3561 \t 0.1599 \t -0.0233 \t 0.0378 \t -0.0441 \t 0.0292 \t -0.0146 \t 0.0065 \t -0.0026 \t  \n",
      "0.707 \t -0.7931 \t -0.1875 \t 0.1234 \t 0.046 \t -0.0544 \t 0.0324 \t -0.0165 \t 0.0076 \t -0.0028 \t  \n",
      "0.5 \t -0.9416 \t -0.0261 \t 0.1957 \t -0.0536 \t 0.022 \t -0.015 \t 0.0074 \t -0.002 \t  \n",
      "0.0 \t -0.969 \t 0.23 \t 0.1115 \t -0.0075 \t -0.0172 \t 0.0064 \t 0.0012 \t  \n",
      "-0.5 \t -0.7901 \t 0.3459 \t 0.0997 \t -0.0434 \t -0.0022 \t 0.0095 \t  \n",
      "-0.707 \t -0.6092 \t 0.4503 \t 0.0318 \t -0.0474 \t 0.0177 \t  \n",
      "-0.866 \t -0.2557 \t 0.4918 \t -0.0426 \t -0.0149 \t  \n",
      "-1.0 \t 0.2577 \t 0.4361 \t -0.0659 \t  \n",
      "-0.866 \t 0.6 \t 0.3671 \t  \n",
      "-0.707 \t 0.7931 \t  \n",
      "-0.5 \t  \n"
     ]
    }
   ],
   "source": [
    "for i in range(n):\n",
    "    for j in range(n-i):\n",
    "        print(round(y[i][j],4),\"\\t\", end=\" \")\n",
    "        \n",
    "        \n",
    "    print(\" \")"
   ]
  },
  {
   "cell_type": "code",
   "execution_count": null,
   "metadata": {},
   "outputs": [],
   "source": []
  },
  {
   "cell_type": "code",
   "execution_count": null,
   "metadata": {},
   "outputs": [],
   "source": []
  },
  {
   "cell_type": "code",
   "execution_count": null,
   "metadata": {},
   "outputs": [],
   "source": []
  },
  {
   "cell_type": "code",
   "execution_count": null,
   "metadata": {},
   "outputs": [],
   "source": []
  },
  {
   "cell_type": "code",
   "execution_count": null,
   "metadata": {},
   "outputs": [],
   "source": []
  },
  {
   "cell_type": "code",
   "execution_count": null,
   "metadata": {},
   "outputs": [],
   "source": []
  }
 ],
 "metadata": {
  "kernelspec": {
   "display_name": "Python 3",
   "language": "python",
   "name": "python3"
  },
  "language_info": {
   "codemirror_mode": {
    "name": "ipython",
    "version": 3
   },
   "file_extension": ".py",
   "mimetype": "text/x-python",
   "name": "python",
   "nbconvert_exporter": "python",
   "pygments_lexer": "ipython3",
   "version": "3.7.6"
  }
 },
 "nbformat": 4,
 "nbformat_minor": 4
}
