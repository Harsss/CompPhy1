{
 "cells": [
  {
   "cell_type": "markdown",
   "metadata": {},
   "source": [
    "## Root finding\n",
    "\n",
    "$f(x)=0$\n",
    "\n",
    "$ax^2 + bx + c=0 $    find by ourself\n",
    "\n",
    "$ e^{-x} -x=0$    not find by hand\n",
    "\n",
    "\n",
    "# Methods\n",
    "* Bracketing\n",
    "* Open\n",
    "(single and real roots)\n",
    "In bracketing we make a bracket and we shrink our bracket until the solution\n",
    "\n",
    "In Open we make a guess and then iterate upto the solution.\n",
    "\n",
    "# braceting\n",
    "* bisection\n",
    "* false position"
   ]
  },
  {
   "cell_type": "code",
   "execution_count": 1,
   "metadata": {},
   "outputs": [],
   "source": [
    "import math\n",
    "import numpy as np"
   ]
  },
  {
   "cell_type": "markdown",
   "metadata": {},
   "source": [
    "# CODE FOR THE BISECTION METHOD"
   ]
  },
  {
   "cell_type": "code",
   "execution_count": 2,
   "metadata": {},
   "outputs": [],
   "source": [
    "def Bisection(f,x1,x2,e):# e is the error \n",
    "    f1=f(x1)\n",
    "    f2=f(x2)\n",
    "    if f1==0.0:\n",
    "        return f1\n",
    "    if f2==0.0:\n",
    "        return f2\n",
    "    \n",
    "    if (np.sign(f1)==np.sign(f2)):\n",
    "        return \"for both the given value function give same sign so there is no gurantee of root between them\"\n",
    "    else:\n",
    "        n=math.ceil(math.log((abs(x1-x2)/e))/(math.log(2.0)))\n",
    "        print(\"number of the loops \",n)\n",
    "        for i in range(n):\n",
    "            x3=(x1+x2)/2\n",
    "            f3=f(x3)\n",
    "   #         print(\"value of fx on \",x3,\"is\",f3)\n",
    "            \n",
    "            if f3==0.0:\n",
    "                return f3\n",
    "            elif (np.sign(f3)==np.sign(f1)):\n",
    "                x1=x3\n",
    "                f1=f3\n",
    "                    \n",
    "            else:\n",
    "                 x2=x3\n",
    "                 f2=f3\n",
    "        return (x1+x2)/2.0\n",
    "                \n",
    "    "
   ]
  },
  {
   "cell_type": "code",
   "execution_count": 3,
   "metadata": {},
   "outputs": [
    {
     "name": "stdout",
     "output_type": "stream",
     "text": [
      "number of the loops  17\n"
     ]
    },
    {
     "data": {
      "text/plain": [
       "-0.000286102294921875"
      ]
     },
     "execution_count": 3,
     "metadata": {},
     "output_type": "execute_result"
    }
   ],
   "source": [
    "def f(x):\n",
    "    return (x*x*x)\n",
    "\n",
    "x1=45.0\n",
    "x2=-40.0\n",
    "e=0.001\n",
    "Bisection(f,x1,x2,e)\n",
    "\n"
   ]
  },
  {
   "cell_type": "code",
   "execution_count": null,
   "metadata": {},
   "outputs": [],
   "source": []
  },
  {
   "cell_type": "code",
   "execution_count": null,
   "metadata": {},
   "outputs": [],
   "source": []
  },
  {
   "cell_type": "code",
   "execution_count": null,
   "metadata": {},
   "outputs": [],
   "source": []
  },
  {
   "cell_type": "markdown",
   "metadata": {},
   "source": [
    "# CODE FOR NEWTOM RAPHSON METHOD"
   ]
  },
  {
   "cell_type": "code",
   "execution_count": 4,
   "metadata": {},
   "outputs": [],
   "source": [
    "def newtonm(d,df,x0,e,max_iter):\n",
    "    xn=x0\n",
    "    for i in range(max_iter):\n",
    "        fxn=f(xn)\n",
    "        if abs(fxn)<e:\n",
    "            return(fxn)\n",
    "        dfxn=df(xn)\n",
    "        if dfxn==0:\n",
    "            print(\"zero derivative\")\n",
    "            return None\n",
    "        xn=xn-fxn/dfxn\n",
    "    return None\n",
    "            \n"
   ]
  },
  {
   "cell_type": "code",
   "execution_count": 5,
   "metadata": {},
   "outputs": [
    {
     "data": {
      "text/plain": [
       "0.008364418909247778"
      ]
     },
     "execution_count": 5,
     "metadata": {},
     "output_type": "execute_result"
    }
   ],
   "source": [
    "def f(x):\n",
    "    return (x*x*x)\n",
    "def df(x):\n",
    "    return(3*x*x)\n",
    "\n",
    "e=0.01\n",
    "newtonm(f,df,200,e,20)\n"
   ]
  },
  {
   "cell_type": "code",
   "execution_count": null,
   "metadata": {},
   "outputs": [],
   "source": []
  },
  {
   "cell_type": "code",
   "execution_count": null,
   "metadata": {},
   "outputs": [],
   "source": []
  },
  {
   "cell_type": "code",
   "execution_count": null,
   "metadata": {},
   "outputs": [],
   "source": []
  },
  {
   "cell_type": "markdown",
   "metadata": {},
   "source": [
    "# CODE FOR THE SECANT METHOD"
   ]
  },
  {
   "cell_type": "code",
   "execution_count": 6,
   "metadata": {},
   "outputs": [],
   "source": [
    "def secantM(f,a,b,n):\n",
    "    if f(a)*f(b)>=0:\n",
    "        print(\"Here1\")\n",
    "        return None\n",
    "    an=a\n",
    "    bn=b\n",
    "    for i in range(1,N+1):\n",
    "        mn=an-(f(an)*(bn-an))/(f(bn)-f(an))\n",
    "        fmn=f(mn)\n",
    "\n",
    "        if f(an)*f(mn)<0:\n",
    "            an=an\n",
    "            bn=mn\n",
    "\n",
    "        elif f(bn)*f(mn)<0:\n",
    "            an=mn\n",
    "            bn=bn\n",
    "\n",
    "            \n",
    "    if fmn==0:\n",
    "        print(\"found exact\")\n",
    "        return mn\n",
    "        \n",
    "    else:\n",
    "            \n",
    "        print(\"secant method fails\")\n",
    "        return None\n",
    "        \n",
    "    \n",
    "    \n",
    "    \n",
    "    \n",
    "    \n",
    "    \n",
    "    \n",
    "    "
   ]
  },
  {
   "cell_type": "code",
   "execution_count": 7,
   "metadata": {},
   "outputs": [
    {
     "name": "stdout",
     "output_type": "stream",
     "text": [
      "secant method fails\n"
     ]
    }
   ],
   "source": [
    "def fx(X):\n",
    "    return X*X*X\n",
    "    \n",
    "a=3\n",
    "b=-2\n",
    "N=1000\n",
    "secantM(fx,a,b,N)"
   ]
  },
  {
   "cell_type": "code",
   "execution_count": null,
   "metadata": {},
   "outputs": [],
   "source": []
  }
 ],
 "metadata": {
  "kernelspec": {
   "display_name": "Python 3",
   "language": "python",
   "name": "python3"
  },
  "language_info": {
   "codemirror_mode": {
    "name": "ipython",
    "version": 3
   },
   "file_extension": ".py",
   "mimetype": "text/x-python",
   "name": "python",
   "nbconvert_exporter": "python",
   "pygments_lexer": "ipython3",
   "version": "3.7.6"
  }
 },
 "nbformat": 4,
 "nbformat_minor": 4
}
