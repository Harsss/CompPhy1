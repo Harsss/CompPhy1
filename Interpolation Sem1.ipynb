{
 "cells": [
  {
   "cell_type": "code",
   "execution_count": 7,
   "metadata": {},
   "outputs": [],
   "source": [
    "def divdiftable(x,y,n):\n",
    "    for i in range(1,n):\n",
    "        for j in range(n-i):\n",
    "            y[j][i]=((y[j+1][i-1]-y[j][i-1])/(x[i+j]-x[j]))\n",
    "    return y"
   ]
  },
  {
   "cell_type": "code",
   "execution_count": 8,
   "metadata": {},
   "outputs": [],
   "source": [
    "def Prodterm(rnk, value,x):\n",
    "    req=1\n",
    "    for j in range(rnk):\n",
    "        req=req*(value-x[j])\n",
    "    return req\n",
    "\n",
    "\n",
    "def combinetrm(value, x,y,n):\n",
    "    ans=y[0][0]\n",
    "    for i in range(1,n):\n",
    "        ans=ans+(Prodterm(i,value,x)*y[0][i])\n",
    "    return ans\n",
    "    "
   ]
  },
  {
   "cell_type": "markdown",
   "metadata": {},
   "source": [
    "# $Sin(x)$"
   ]
  },
  {
   "cell_type": "code",
   "execution_count": 9,
   "metadata": {},
   "outputs": [],
   "source": [
    "import numpy as np \n",
    "x=np.array([0.0,0.523,0.785,1.046,1.57,2.093,2.355,2.616,3.147,3.663,3.925,4.186,4.710,5.230,5.495,5.756])\n",
    "\n",
    "n=len(x)\n",
    "y=np.zeros((20,20))"
   ]
  },
  {
   "cell_type": "code",
   "execution_count": 10,
   "metadata": {},
   "outputs": [
    {
     "name": "stdout",
     "output_type": "stream",
     "text": [
      "0.99\n"
     ]
    }
   ],
   "source": [
    "y1=[0.0,0.50,0.707,0.866,1.0,0.866,0.707,0.50,0.0,-0.50,-0.707,-0.866,-1.0,-0.866,-0.707,-0.50]\n",
    "\n",
    "for i in range(0,16):\n",
    "    y[i][0]=y1[i]\n",
    "\n",
    "y=divdiftable(x,y,n)\n",
    "value=(1.4)\n",
    "print(round(combinetrm(value,x,y,n),2))\n",
    "\n",
    "\n"
   ]
  },
  {
   "cell_type": "code",
   "execution_count": null,
   "metadata": {},
   "outputs": [],
   "source": []
  },
  {
   "cell_type": "markdown",
   "metadata": {},
   "source": [
    " "
   ]
  },
  {
   "cell_type": "code",
   "execution_count": null,
   "metadata": {},
   "outputs": [],
   "source": []
  },
  {
   "cell_type": "code",
   "execution_count": null,
   "metadata": {},
   "outputs": [],
   "source": []
  },
  {
   "cell_type": "code",
   "execution_count": null,
   "metadata": {},
   "outputs": [],
   "source": []
  },
  {
   "cell_type": "code",
   "execution_count": null,
   "metadata": {},
   "outputs": [],
   "source": []
  },
  {
   "cell_type": "code",
   "execution_count": null,
   "metadata": {},
   "outputs": [],
   "source": []
  }
 ],
 "metadata": {
  "kernelspec": {
   "display_name": "Python 3",
   "language": "python",
   "name": "python3"
  },
  "language_info": {
   "codemirror_mode": {
    "name": "ipython",
    "version": 3
   },
   "file_extension": ".py",
   "mimetype": "text/x-python",
   "name": "python",
   "nbconvert_exporter": "python",
   "pygments_lexer": "ipython3",
   "version": "3.7.6"
  }
 },
 "nbformat": 4,
 "nbformat_minor": 4
}
