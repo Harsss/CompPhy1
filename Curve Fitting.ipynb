{
 "cells": [
  {
   "cell_type": "code",
   "execution_count": 1,
   "metadata": {},
   "outputs": [],
   "source": [
    "import matplotlib.pyplot as plt\n",
    "from scipy.optimize import curve_fit\n",
    "\n",
    "def func(x, a, b, c):\n",
    "    return a * np.exp(-b * x) + c"
   ]
  },
  {
   "cell_type": "code",
   "execution_count": 2,
   "metadata": {},
   "outputs": [
    {
     "data": {
      "text/plain": [
       "[<matplotlib.lines.Line2D at 0x7090d30>]"
      ]
     },
     "execution_count": 2,
     "metadata": {},
     "output_type": "execute_result"
    },
    {
     "data": {
      "image/png": "[encoded data removed]",
      "text/plain": [
       "<Figure size 432x288 with 1 Axes>"
      ]
     },
     "metadata": {
      "needs_background": "light"
     },
     "output_type": "display_data"
    }
   ],
   "source": [
    "import numpy as np \n",
    "xdata = np.linspace(0, 4, 50)\n",
    "y = func(xdata, 2.5, 1.3, 0.5)\n",
    "np.random.seed(1729)\n",
    "y_noise = 0.2 * np.random.normal(size=xdata.size)\n",
    "ydata = y + y_noise\n",
    "plt.plot(xdata, ydata, 'o', label='data')"
   ]
  },
  {
   "cell_type": "code",
   "execution_count": 12,
   "metadata": {},
   "outputs": [
    {
     "name": "stdout",
     "output_type": "stream",
     "text": [
      "Sine funcion coefficients:\n",
      "[0.38521857 1.59943206 3.50548307 1.30567979 0.21510622 0.70302706\n",
      " 0.17167062 2.21251507]\n",
      "Covariance of coefficients:\n",
      "[[ 1.66334850e+00 -8.65356965e-01 -1.58618266e+00 -9.76677762e-02\n",
      "  -5.79928490e-02 -3.53624707e-01  1.33317665e-03 -4.58718172e-01]\n",
      " [-8.65356965e-01  4.90292947e-01  8.83240492e-01  5.30523963e-02\n",
      "   3.63149647e-02  1.92174917e-01  1.31414506e-02  2.36085232e-01]\n",
      " [-1.58618266e+00  8.83240492e-01  1.67132740e+00  9.62237703e-02\n",
      "   7.26940236e-02  3.64612413e-01  1.28833543e-02  4.46596231e-01]\n",
      " [-9.76677762e-02  5.30523963e-02  9.62237703e-02  6.01794360e-03\n",
      "   2.79831340e-03  2.07735909e-02  1.38416721e-04  2.68653899e-02]\n",
      " [-5.79928490e-02  3.63149647e-02  7.26940236e-02  2.79831340e-03\n",
      "   7.82723214e-02  1.73623436e-02  8.14762558e-04  2.22020371e-02]\n",
      " [-3.53624707e-01  1.92174917e-01  3.64612413e-01  2.07735909e-02\n",
      "   1.73623436e-02  1.14819199e-01 -2.44136395e-03  1.00991132e-01]\n",
      " [ 1.33317665e-03  1.31414506e-02  1.28833543e-02  1.38416721e-04\n",
      "   8.14762558e-04 -2.44136395e-03  7.27380706e-02 -1.57403736e-03]\n",
      " [-4.58718172e-01  2.36085232e-01  4.46596231e-01  2.68653899e-02\n",
      "   2.22020371e-02  1.00991132e-01 -1.57403736e-03  1.89078152e-01]]\n"
     ]
    },
    {
     "data": {
      "image/png": "[encoded data removed]",
      "text/plain": [
       "<Figure size 432x288 with 1 Axes>"
      ]
     },
     "metadata": {
      "needs_background": "light"
     },
     "output_type": "display_data"
    },
    {
     "data": {
      "text/plain": [
       "array([0.38521857, 1.59943206, 3.50548307, 1.30567979, 0.21510622,\n",
       "       0.70302706, 0.17167062, 2.21251507])"
      ]
     },
     "execution_count": 12,
     "metadata": {},
     "output_type": "execute_result"
    }
   ],
   "source": [
    "import numpy as np \n",
    "\n",
    "# curve-fit() function imported from scipy \n",
    "from scipy.optimize import curve_fit \n",
    "\n",
    "from matplotlib import pyplot as plt \n",
    "\n",
    "# numpy.linspace with the given arguments \n",
    "# produce an array of 40 numbers between 0 \n",
    "# and 10, both inclusive \n",
    "x = np.linspace(0, 10, num = 40) \n",
    "\n",
    "\n",
    "# y is another array which stores 3.45 times \n",
    "# the sine of (values in x) * 1.334. \n",
    "# The random.normal() draws random sample \n",
    "# from normal (Gaussian) distribution to make \n",
    "# them scatter across the base line \n",
    "y = 3.45 * np.sin(1.334 * x) + np.random.normal(size = 40) \n",
    "\n",
    "# Test function with coefficients as parameters \n",
    "def test(x, a, b,c,d,e,f,g,h): \n",
    " \treturn (a * np.sin(b * x)+c*np.sin(d*x)+e*np.sin(f * x)+g*np.sin(h*x))\n",
    "# \treturn (a * np.sin(b*x))\n",
    "\n",
    "# curve_fit() function takes the test-function \n",
    "# x-data and y-data as argument and returns \n",
    "# the coefficients a and b in param and \n",
    "# the estimated covariance of param in param_cov \n",
    "param, param_cov = curve_fit(test, x, y) \n",
    "\n",
    "\n",
    "print(\"Sine funcion coefficients:\") \n",
    "print(param) \n",
    "print(\"Covariance of coefficients:\") \n",
    "print(param_cov) \n",
    "\n",
    "# ans stores the new y-data according to \n",
    "# the coefficients given by curve-fit() function \n",
    "# ans = (param[0]*(np.sin(param[1]*x))) \n",
    "ans=(param[0] * np.sin(param[1] * x)+param[2]*np.sin(param[3]*x)+param[4]* np.sin(param[5] * x)+param[6]*np.sin(param[7]*x))\n",
    "'''Below 4 lines can be un-commented for plotting results \n",
    "using matplotlib as shown in the first example. '''\n",
    "\n",
    "plt.plot(x, y, 'o', color ='red', label =\"data\") \n",
    "plt.plot(x, ans, '--', color ='blue', label =\"optimized data\") \n",
    "plt.legend() \n",
    "plt.show() \n",
    "param"
   ]
  },
  {
   "cell_type": "code",
   "execution_count": null,
   "metadata": {},
   "outputs": [],
   "source": []
  },
  {
   "cell_type": "code",
   "execution_count": null,
   "metadata": {},
   "outputs": [],
   "source": []
  }
 ],
 "metadata": {
  "kernelspec": {
   "display_name": "Python 3",
   "language": "python",
   "name": "python3"
  },
  "language_info": {
   "codemirror_mode": {
    "name": "ipython",
    "version": 3
   },
   "file_extension": ".py",
   "mimetype": "text/x-python",
   "name": "python",
   "nbconvert_exporter": "python",
   "pygments_lexer": "ipython3",
   "version": "3.7.6"
  }
 },
 "nbformat": 4,
 "nbformat_minor": 4
}
