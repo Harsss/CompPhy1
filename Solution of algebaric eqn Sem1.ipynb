{
 "cells": [
  {
   "cell_type": "markdown",
   "metadata": {},
   "source": [
    "## Root finding\n",
    "\n",
    "$f(x)=0$\n",
    "\n",
    "$ax^2 + bx + c=0 $    find by ourself\n",
    "\n",
    "$ e^{-x} -x=0$    not find by hand\n",
    "\n",
    "\n",
    "# Methods\n",
    "* Bracketing\n",
    "* Open\n",
    "(single and real roots)\n",
    "In bracketing we make a bracket and we shrink our bracket until the solution\n",
    "\n",
    "In Open we make a guess and then iterate upto the solution.\n",
    "\n",
    "# braceting\n",
    "* bisection\n",
    "* false position"
   ]
  },
  {
   "cell_type": "code",
   "execution_count": 1,
   "metadata": {},
   "outputs": [],
   "source": [
    "import math\n",
    "import numpy as np"
   ]
  },
  {
   "cell_type": "markdown",
   "metadata": {},
   "source": [
    "# CODE FOR THE BISECTION METHOD"
   ]
  },
  {
   "cell_type": "code",
   "execution_count": 2,
   "metadata": {},
   "outputs": [],
   "source": [
    "                \n",
    "    \n",
    "from numpy import sign\n",
    "def Bisection(f,x1,x2,switch=1,errorVal=1.0e-9):\n",
    "    f1 = f(x1)\n",
    "    if f1 == 0.0: return x1\n",
    "    f2 = f(x2)\n",
    "    if f2 == 0.0: return x2\n",
    "    if sign(f1) == sign(f2):\n",
    "        error.err('Root is not bracketed')\n",
    "    n = int(math.ceil(math.log(abs(x2 - x1)/errorVal)/math.log(2.0)))\n",
    "    for i in range(n):\n",
    "        x3 = 0.5*(x1 + x2); f3 = f(x3)\n",
    "        if (switch == 1) and (abs(f3) > abs(f1)) \\\n",
    "        and (abs(f3) > abs(f2)):\n",
    "            return None\n",
    "        if f3 == 0.0: return x3\n",
    "        if sign(f2)!= sign(f3): x1 = x3; f1 = f3\n",
    "        else: x2 = x3; f2 = f3\n",
    "    return (x1 + x2)/2.0\n"
   ]
  },
  {
   "cell_type": "markdown",
   "metadata": {},
   "source": [
    "# An Example"
   ]
  },
  {
   "cell_type": "code",
   "execution_count": 3,
   "metadata": {},
   "outputs": [
    {
     "data": {
      "text/plain": [
       "2.7284841053187847e-10"
      ]
     },
     "execution_count": 3,
     "metadata": {},
     "output_type": "execute_result"
    }
   ],
   "source": [
    "import math\n",
    "def f(x):\n",
    "    return (x*x*x)\n",
    "\n",
    "x1=45.0\n",
    "x2=-40.0\n",
    "e=0.001\n",
    "Bisection(f,x1,x2,e)\n",
    "\n"
   ]
  },
  {
   "cell_type": "code",
   "execution_count": null,
   "metadata": {},
   "outputs": [],
   "source": []
  },
  {
   "cell_type": "code",
   "execution_count": null,
   "metadata": {},
   "outputs": [],
   "source": []
  },
  {
   "cell_type": "code",
   "execution_count": null,
   "metadata": {},
   "outputs": [],
   "source": []
  },
  {
   "cell_type": "markdown",
   "metadata": {},
   "source": [
    "# CODE FOR NEWTOM RAPHSON METHOD"
   ]
  },
  {
   "cell_type": "code",
   "execution_count": 4,
   "metadata": {},
   "outputs": [],
   "source": [
    "def newtonm(d,df,x0,e,max_iter):\n",
    "    xn=x0\n",
    "    for i in range(max_iter):\n",
    "        fxn=f(xn)\n",
    "#         print(fxn) Just For Chexk\n",
    "        if abs(fxn)<e:\n",
    "            return(fxn)\n",
    "        dfxn=df(xn)\n",
    "        if dfxn==0:\n",
    "            print(\"zero derivative\")\n",
    "            return None\n",
    "        xn=xn-fxn/dfxn\n",
    "        if (abs(f(xn))>abs(f(x0)) and i>2 ): # Check The Convergence\n",
    "             return (\"Newton Method Fails\")\n",
    "    print(\"Newton Method Fails\")        \n",
    "    return None\n",
    "            \n"
   ]
  },
  {
   "cell_type": "code",
   "execution_count": null,
   "metadata": {},
   "outputs": [],
   "source": []
  },
  {
   "cell_type": "markdown",
   "metadata": {},
   "source": [
    "# Example"
   ]
  },
  {
   "cell_type": "code",
   "execution_count": 5,
   "metadata": {},
   "outputs": [
    {
     "data": {
      "text/plain": [
       "0.008364418909247778"
      ]
     },
     "execution_count": 5,
     "metadata": {},
     "output_type": "execute_result"
    }
   ],
   "source": [
    "def f(x):\n",
    "    return (x*x*x)\n",
    "def df(x):\n",
    "    return(3*x*x)\n",
    "\n",
    "e=0.01\n",
    "newtonm(f,df,200,e,20)\n"
   ]
  },
  {
   "cell_type": "code",
   "execution_count": null,
   "metadata": {},
   "outputs": [],
   "source": []
  },
  {
   "cell_type": "code",
   "execution_count": null,
   "metadata": {},
   "outputs": [],
   "source": []
  },
  {
   "cell_type": "code",
   "execution_count": null,
   "metadata": {},
   "outputs": [],
   "source": []
  },
  {
   "cell_type": "markdown",
   "metadata": {},
   "source": [
    "# CODE FOR THE SECANT METHOD"
   ]
  },
  {
   "cell_type": "code",
   "execution_count": 6,
   "metadata": {},
   "outputs": [],
   "source": [
    "def secantM(f,a,b,e=0.0001,n=30):\n",
    "    if f(a)*f(b)>=0:\n",
    "        print(\"Here1\")\n",
    "        return None\n",
    "    an=a\n",
    "    bn=b\n",
    "    for i in range(1,N+1):\n",
    "        mn=an-(f(an)*(bn-an))/(f(bn)-f(an))\n",
    "        fmn=f(mn)\n",
    "\n",
    "        if f(an)*f(mn)<0:\n",
    "            an=an\n",
    "            bn=mn\n",
    "\n",
    "        elif f(bn)*f(mn)<0:\n",
    "            an=mn\n",
    "            bn=bn\n",
    "\n",
    "            \n",
    "    if abs(fmn)<e:\n",
    "        \n",
    "        return mn\n",
    "        \n",
    "    else:\n",
    "            \n",
    "        print(\"secant method fails to find the solution\")\n",
    "        return None\n",
    "        \n",
    "    \n",
    "    \n",
    "    \n",
    "    \n",
    "    \n",
    "    \n",
    "    \n",
    "    "
   ]
  },
  {
   "cell_type": "markdown",
   "metadata": {},
   "source": [
    "# Example"
   ]
  },
  {
   "cell_type": "code",
   "execution_count": 7,
   "metadata": {},
   "outputs": [
    {
     "data": {
      "text/plain": [
       "-0.0654999698245331"
      ]
     },
     "execution_count": 7,
     "metadata": {},
     "output_type": "execute_result"
    }
   ],
   "source": [
    "def fx(X):\n",
    "    return X*X*X\n",
    "    \n",
    "a=3\n",
    "b=-2\n",
    "N=1000\n",
    "secantM(fx,a,b,N)"
   ]
  },
  {
   "cell_type": "code",
   "execution_count": null,
   "metadata": {},
   "outputs": [],
   "source": []
  },
  {
   "cell_type": "markdown",
   "metadata": {},
   "source": [
    "# Questions"
   ]
  },
  {
   "cell_type": "markdown",
   "metadata": {},
   "source": [
    "## 1->$ x=tan(x) $"
   ]
  },
  {
   "cell_type": "code",
   "execution_count": 8,
   "metadata": {},
   "outputs": [],
   "source": [
    "import math\n",
    "def g(x):\n",
    "    return (x-math.tan(x))"
   ]
  },
  {
   "cell_type": "code",
   "execution_count": null,
   "metadata": {},
   "outputs": [],
   "source": []
  },
  {
   "cell_type": "code",
   "execution_count": null,
   "metadata": {},
   "outputs": [],
   "source": []
  },
  {
   "cell_type": "code",
   "execution_count": null,
   "metadata": {},
   "outputs": [],
   "source": []
  },
  {
   "cell_type": "markdown",
   "metadata": {},
   "source": [
    "# 1-> Bisection Method"
   ]
  },
  {
   "cell_type": "code",
   "execution_count": null,
   "metadata": {},
   "outputs": [],
   "source": []
  },
  {
   "cell_type": "markdown",
   "metadata": {},
   "source": [
    "# This method is not a good method for this typr of question because bisection  method Assumes a function to be continous which it not"
   ]
  },
  {
   "cell_type": "code",
   "execution_count": null,
   "metadata": {},
   "outputs": [],
   "source": []
  },
  {
   "cell_type": "markdown",
   "metadata": {},
   "source": [
    "### to use bisection method we have first be confirm that we are on the same which is of course continue interval "
   ]
  },
  {
   "cell_type": "code",
   "execution_count": 9,
   "metadata": {},
   "outputs": [
    {
     "data": {
      "text/plain": [
       "-4.4934094580938115"
      ]
     },
     "execution_count": 9,
     "metadata": {},
     "output_type": "execute_result"
    }
   ],
   "source": [
    "x1=-4.5\n",
    "x2=-1.6\n",
    "e=0.0001\n",
    "Bisection(g,x1,x2,e)"
   ]
  },
  {
   "cell_type": "code",
   "execution_count": 10,
   "metadata": {},
   "outputs": [
    {
     "data": {
      "text/plain": [
       "10.904121659655356"
      ]
     },
     "execution_count": 10,
     "metadata": {},
     "output_type": "execute_result"
    }
   ],
   "source": [
    "x1=8.2\n",
    "x2=10.95\n",
    "e=0.0001\n",
    "Bisection(g,x1,x2,e)"
   ]
  },
  {
   "cell_type": "markdown",
   "metadata": {},
   "source": [
    "# so the answer is infinite maby answers \n",
    "\n",
    "## answers->{.....-4.4934,0,4.4934,7.7252,10.9041}\n",
    "### and so on\n"
   ]
  },
  {
   "cell_type": "code",
   "execution_count": null,
   "metadata": {},
   "outputs": [],
   "source": []
  },
  {
   "cell_type": "markdown",
   "metadata": {},
   "source": [
    "## Now we need a program that can solve our issue of Choose the range with care. so let analyse this thing.\n",
    "\n",
    "### so the sign $x$  change after every  $\\frac{\\pi}{2}$. So to prevent bisection from mistake these points for roots, we set switch=1. and then allevated it to the 0.01 as following   \n"
   ]
  },
  {
   "cell_type": "code",
   "execution_count": 11,
   "metadata": {},
   "outputs": [
    {
     "name": "stdout",
     "output_type": "stream",
     "text": [
      "The roots are:\n",
      "0.0\n",
      "4.493409458100745\n",
      "7.725251837074637\n",
      "10.904121659695917\n",
      "14.06619391292308\n",
      "17.220755272209537\n",
      "\n",
      "Done\n",
      "Press return to exit5\n"
     ]
    },
    {
     "data": {
      "text/plain": [
       "'5'"
      ]
     },
     "execution_count": 11,
     "metadata": {},
     "output_type": "execute_result"
    }
   ],
   "source": [
    "from numpy import sign\n",
    "def rootsearch(f,a,b,dx):\n",
    "    x1 = a; f1 = f(a)\n",
    "    x2 = a + dx; f2 = f(x2)\n",
    "    while sign(f1) == sign(f2):\n",
    "        if x1 >= b: return None,None\n",
    "        x1 = x2; f1 = f2\n",
    "        x2 = x1 + dx; f2 = f(x2)\n",
    "    else:\n",
    "        return x1,x2\n",
    "\n",
    "\n",
    "\n",
    "\n",
    "\n",
    "\n",
    "\n",
    "\n",
    "\n",
    "\n",
    "\n",
    "\n",
    "\n",
    "a,b,dx = (0.0, 20.0, 0.01)\n",
    "print(\"The roots are:\")\n",
    "while True:\n",
    "    x1,x2 = rootsearch(g,a,b,dx)\n",
    "    if x1 != None:\n",
    "        a = x2\n",
    "        root = Bisection(g,x1,x2,1)\n",
    "        if root != None: print(root)\n",
    "    else:\n",
    "        print(\"\\nDone\")\n",
    "        break\n",
    "input(\"Press return to exit\") # This is because our fx has infinite loop\n",
    "        "
   ]
  },
  {
   "cell_type": "code",
   "execution_count": null,
   "metadata": {},
   "outputs": [],
   "source": []
  },
  {
   "cell_type": "code",
   "execution_count": null,
   "metadata": {},
   "outputs": [],
   "source": []
  },
  {
   "cell_type": "markdown",
   "metadata": {},
   "source": [
    "# 2-> Using Newton Raphson "
   ]
  },
  {
   "cell_type": "code",
   "execution_count": 12,
   "metadata": {},
   "outputs": [
    {
     "data": {
      "text/plain": [
       "'Newton Method Fails'"
      ]
     },
     "execution_count": 12,
     "metadata": {},
     "output_type": "execute_result"
    }
   ],
   "source": [
    "def f(x):\n",
    "    return (x- math.tan(x))\n",
    "def df(x):\n",
    "    return(1-((1/math.cos(x))*1/math.cos(x)))\n",
    "\n",
    "e=0.01\n",
    "newtonm(f,df,4.2,e,20)\n"
   ]
  },
  {
   "cell_type": "markdown",
   "metadata": {},
   "source": [
    "## So for this question Newton Raphson Method Fails as it diverge instead on Converge"
   ]
  },
  {
   "cell_type": "code",
   "execution_count": null,
   "metadata": {},
   "outputs": [],
   "source": []
  },
  {
   "cell_type": "markdown",
   "metadata": {},
   "source": [
    "# Q2->$ I=I_{0}{(\\frac{sin(\\alpha)}{\\alpha})}^{2}$"
   ]
  },
  {
   "cell_type": "code",
   "execution_count": 13,
   "metadata": {},
   "outputs": [
    {
     "data": {
      "image/png": "[encoded data removed]",
      "text/plain": [
       "<Figure size 432x288 with 1 Axes>"
      ]
     },
     "metadata": {
      "needs_background": "light"
     },
     "output_type": "display_data"
    }
   ],
   "source": [
    "import matplotlib.pyplot as plt\n",
    "x=np.linspace(-10,10,5000)\n",
    "def q2(x,I0=4.0): # I just suppose I0 to be 4 \n",
    "    return(I0*(math.pow((math.sin(x))/x,2)))\n",
    "    \n",
    "y=np.vectorize(q2)\n",
    "plt.plot(x,y(x))\n",
    "plt.grid(\"True\")"
   ]
  },
  {
   "cell_type": "markdown",
   "metadata": {},
   "source": [
    "## Bisection Method\n",
    "\n",
    "### Since in this function we can never go to negative to basically our Bisection Method Fails this time"
   ]
  },
  {
   "cell_type": "code",
   "execution_count": null,
   "metadata": {},
   "outputs": [],
   "source": []
  },
  {
   "cell_type": "markdown",
   "metadata": {},
   "source": [
    "# Newton Method "
   ]
  },
  {
   "cell_type": "code",
   "execution_count": 14,
   "metadata": {},
   "outputs": [],
   "source": [
    "def q2(x,I0=4.0): # I just suppose I0 to be 4 \n",
    "    return(I0*(math.pow((math.sin(x))/x),2))\n",
    "    \n",
    "def dq2(x):\n",
    "    \n",
    "    \n",
    "    I0=4\n",
    "#     return((2*I0*math.sin(x)(x*math.cos(x)-math.sin(x)))/(x*x*x))\n",
    "    return(I0*(x*math.sin(2*x)-2*(math.sin(x)*math.sin(x)))/(x*x*x))\n",
    "    \n",
    "    \n",
    "    "
   ]
  },
  {
   "cell_type": "code",
   "execution_count": 15,
   "metadata": {},
   "outputs": [
    {
     "data": {
      "text/plain": [
       "'Newton Method Fails'"
      ]
     },
     "execution_count": 15,
     "metadata": {},
     "output_type": "execute_result"
    }
   ],
   "source": [
    "e=0.01\n",
    "newtonm(f,df,4.2,e,20)\n"
   ]
  },
  {
   "cell_type": "code",
   "execution_count": 16,
   "metadata": {},
   "outputs": [
    {
     "data": {
      "text/plain": [
       "-0.9314727855989986"
      ]
     },
     "execution_count": 16,
     "metadata": {},
     "output_type": "execute_result"
    }
   ],
   "source": [
    "import math\n",
    "def f(x):\n",
    "    return (3*x**3-5*x**2+6)\n",
    "\n",
    "x1=45.0\n",
    "x2=-40.0\n",
    "e=0.001\n",
    "secantM(f,x1,x2,20)\n",
    "\n"
   ]
  },
  {
   "cell_type": "code",
   "execution_count": 17,
   "metadata": {},
   "outputs": [
    {
     "data": {
      "text/plain": [
       "-0.7546684730000015"
      ]
     },
     "execution_count": 17,
     "metadata": {},
     "output_type": "execute_result"
    }
   ],
   "source": [
    "f(-0.931)"
   ]
  },
  {
   "cell_type": "code",
   "execution_count": null,
   "metadata": {},
   "outputs": [],
   "source": []
  },
  {
   "cell_type": "markdown",
   "metadata": {},
   "source": [
    "# So now we see that the eqn is never go beyond negative so we have to used some other method or say some special method for this question, So for it just see the plot of this fx and its derivative"
   ]
  },
  {
   "cell_type": "code",
   "execution_count": 18,
   "metadata": {},
   "outputs": [
    {
     "data": {
      "image/png": "[encoded data removed]",
      "text/plain": [
       "<Figure size 432x288 with 1 Axes>"
      ]
     },
     "metadata": {
      "needs_background": "light"
     },
     "output_type": "display_data"
    }
   ],
   "source": [
    "import matplotlib.pyplot as plt\n",
    "x=np.linspace(-10,10,5000)\n",
    "def q2(x,I0=4.0): # I just suppose I0 to be 4 \n",
    "    return(I0*(math.pow((math.sin(x))/x,2)))\n",
    "    \n",
    "y=np.vectorize(q2)\n",
    "plt.plot(x,y(x))\n",
    "plt.grid(\"True\")"
   ]
  },
  {
   "cell_type": "code",
   "execution_count": 19,
   "metadata": {},
   "outputs": [
    {
     "data": {
      "image/png": "[encoded data removed]",
      "text/plain": [
       "<Figure size 432x288 with 1 Axes>"
      ]
     },
     "metadata": {
      "needs_background": "light"
     },
     "output_type": "display_data"
    }
   ],
   "source": [
    "\n",
    "import matplotlib.pyplot as plt\n",
    "x=np.linspace(-10,10,5000)\n",
    "def dq2(x,I0=4.0): # I just suppose I0 to be 4 \n",
    "     return(I0*(x*math.sin(2*x)-2*(math.sin(x)*math.sin(x)))/(x*x*x))\n",
    "    \n",
    "y=np.vectorize(dq2)\n",
    "plt.plot(x,y(x))\n",
    "plt.grid(\"True\")"
   ]
  },
  {
   "cell_type": "markdown",
   "metadata": {},
   "source": [
    "# At the point of solution the graph's tangent is paraller to y axis means derivative is zero and we can also see the same thing using the graph  "
   ]
  },
  {
   "cell_type": "code",
   "execution_count": 24,
   "metadata": {},
   "outputs": [
    {
     "name": "stdout",
     "output_type": "stream",
     "text": [
      "-3.141592653589793\n"
     ]
    }
   ],
   "source": [
    "\n",
    "def dq2(x,I0=4.0): # I just suppose I0 to be 4 \n",
    "    return(I0*(x*math.sin(2*x)-2*(math.sin(x)*math.sin(x)))/(x*x*x))\n",
    "\n",
    "print(secantM(dq2,-4,-1))\n"
   ]
  },
  {
   "cell_type": "code",
   "execution_count": null,
   "metadata": {},
   "outputs": [],
   "source": []
  },
  {
   "cell_type": "code",
   "execution_count": null,
   "metadata": {},
   "outputs": [],
   "source": []
  }
 ],
 "metadata": {
  "kernelspec": {
   "display_name": "Python 3",
   "language": "python",
   "name": "python3"
  },
  "language_info": {
   "codemirror_mode": {
    "name": "ipython",
    "version": 3
   },
   "file_extension": ".py",
   "mimetype": "text/x-python",
   "name": "python",
   "nbconvert_exporter": "python",
   "pygments_lexer": "ipython3",
   "version": "3.7.6"
  }
 },
 "nbformat": 4,
 "nbformat_minor": 4
}
