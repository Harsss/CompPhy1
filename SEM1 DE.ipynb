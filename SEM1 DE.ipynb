{
 "cells": [
  {
   "cell_type": "code",
   "execution_count": 3,
   "metadata": {},
   "outputs": [],
   "source": [
    "import numpy as np"
   ]
  },
  {
   "cell_type": "markdown",
   "metadata": {},
   "source": [
    "# Euler Method "
   ]
  },
  {
   "cell_type": "code",
   "execution_count": 5,
   "metadata": {},
   "outputs": [],
   "source": [
    "def integrate(F,x,y,x_Stop,h):\n",
    "    X=[] \n",
    "    Y=[] \n",
    "    X.append(x)\n",
    "    Y.append(y)\n",
    "\n",
    "    while x < x_Stop:\n",
    "        h=min(h,x_Stop-x) #x_stop -->last value of x\n",
    "        y=y+h*F(x,y)\n",
    "\n",
    "        x=x+h\n",
    "        X.append(x)    \n",
    "        Y.append(y)\n",
    "\n",
    "        return np.array(X),np.array(Y)\n"
   ]
  },
  {
   "cell_type": "code",
   "execution_count": null,
   "metadata": {},
   "outputs": [],
   "source": []
  },
  {
   "cell_type": "code",
   "execution_count": null,
   "metadata": {},
   "outputs": [],
   "source": []
  },
  {
   "cell_type": "code",
   "execution_count": null,
   "metadata": {},
   "outputs": [],
   "source": []
  },
  {
   "cell_type": "markdown",
   "metadata": {},
   "source": [
    "# Code for Runga Kutta 4$^{th}$ Order "
   ]
  },
  {
   "cell_type": "code",
   "execution_count": 8,
   "metadata": {},
   "outputs": [],
   "source": [
    "def Sol(F,x,y,x_Stop,h):\n",
    "    def RK4phi(F,x,y,h):\n",
    "        K0=h*F(x,y)\n",
    "        K1=h*F(x+h/2,y+K0/2)\n",
    "        K2=h*F(x+h/2,y+K1/2)\n",
    "        K3=h*F(x+h,y+K2)\n",
    "        return (K0+2*K1+2*K2+K/3)/6\n",
    "\n",
    "\n",
    "    X=[] \n",
    "    Y=[] \n",
    "    X.append(x)\n",
    "    Y.append(y)\n",
    "\n",
    "    while x < x_Stop:\n",
    "        h=min(h,x_Stop-x) #x_stop -->last value of x\n",
    "        y=y+h*F(x,y)\n",
    "\n",
    "        x=x+h\n",
    "        X.append(x)    \n",
    "        Y.append(y)\n",
    "\n",
    "        return np.array(X),np.array(Y)\n",
    "\n"
   ]
  },
  {
   "cell_type": "code",
   "execution_count": null,
   "metadata": {},
   "outputs": [],
   "source": []
  }
 ],
 "metadata": {
  "kernelspec": {
   "display_name": "Python 3",
   "language": "python",
   "name": "python3"
  },
  "language_info": {
   "codemirror_mode": {
    "name": "ipython",
    "version": 3
   },
   "file_extension": ".py",
   "mimetype": "text/x-python",
   "name": "python",
   "nbconvert_exporter": "python",
   "pygments_lexer": "ipython3",
   "version": "3.7.6"
  }
 },
 "nbformat": 4,
 "nbformat_minor": 4
}
