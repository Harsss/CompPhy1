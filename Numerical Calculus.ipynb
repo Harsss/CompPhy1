{
 "cells": [
  {
   "cell_type": "markdown",
   "metadata": {},
   "source": [
    "#  Numerical differentiation and numerical error\n",
    "\n",
    "\n",
    "\n",
    "\n",
    "\n",
    "\n",
    "\n",
    "forward formula for derivative\n",
    "# f'(x)= $\\frac{f(xi+1)-f(xi)}{x(i+1)-x(i)} $ - $\\frac{R(1)}{x(i+1)-x(i)} $\n"
   ]
  },
  {
   "cell_type": "markdown",
   "metadata": {},
   "source": [
    "# Numerical Differentiation"
   ]
  },
  {
   "cell_type": "code",
   "execution_count": 1,
   "metadata": {},
   "outputs": [],
   "source": [
    "def deriv(f,a,method=\"central\"):\n",
    "    h=0.01\n",
    "    if method==\"central\":\n",
    "        return (f(a+h)-f(a-h)/2*h)\n",
    "    \n",
    "    elif method==\"forward\":\n",
    "        return (f(a+h)-f(a)/h)\n",
    "    \n",
    "    elif method==\"backward\":\n",
    "        return (f(a)-f(a-h)/h)\n",
    "    else:\n",
    "        return(\"Choose the Valid Method\")\n",
    "    "
   ]
  },
  {
   "cell_type": "markdown",
   "metadata": {},
   "source": [
    "# Error Formuals in the ND"
   ]
  },
  {
   "cell_type": "markdown",
   "metadata": {},
   "source": [
    "#  $f(x+h) = f(x) +hf'(x)+\\frac{h}{2!} f''(x)+\\frac{h}{3!} f'''(x)..........\\frac{h^{(n+1)}}{(n+1)!} f^{(n+1)}(x)$\n",
    "\n",
    "## so the error formula is \n",
    "### $|\\frac{f(a+h)-f(a)}{h}| < \\frac{hk}{2} $\n",
    "\n",
    "\n"
   ]
  },
  {
   "cell_type": "code",
   "execution_count": null,
   "metadata": {},
   "outputs": [],
   "source": []
  },
  {
   "cell_type": "markdown",
   "metadata": {},
   "source": [
    "#  Numerical Integration\n"
   ]
  },
  {
   "cell_type": "markdown",
   "metadata": {},
   "source": [
    "## Trapezoidal Method "
   ]
  },
  {
   "cell_type": "code",
   "execution_count": 2,
   "metadata": {},
   "outputs": [],
   "source": [
    "def trapz(f,a,b,n=1000): # n is the number of sub intervals\n",
    "    x=np.linspace(a,b,n+1)\n",
    "    y=f(x)\n",
    "    y_start=y[1:] #Make array with all starting points\n",
    "    y_end=y[:-1] #Make array with all ending points\n",
    "    dx=(b-a)/n\n",
    "    A=np.sum(y_end+y_start)*(dx/2)\n",
    "    return A\n"
   ]
  },
  {
   "cell_type": "markdown",
   "metadata": {},
   "source": [
    "#  Simpsons Rule"
   ]
  },
  {
   "cell_type": "code",
   "execution_count": 3,
   "metadata": {},
   "outputs": [],
   "source": [
    "def simpson(f,a,b):\n",
    "    n=1000\n",
    "    dx=(b-a)/n\n",
    "    x=np.linspace(a,b,N+1)\n",
    "    \n",
    "    y=f(x)\n",
    "    \n",
    "    S=(dx/3)* np.sum(y[0:-1:2]+4*y[1::2]+2*y[2::2])\n",
    "    \n",
    "    return S\n",
    "    "
   ]
  },
  {
   "cell_type": "code",
   "execution_count": null,
   "metadata": {},
   "outputs": [],
   "source": []
  }
 ],
 "metadata": {
  "kernelspec": {
   "display_name": "Python 3",
   "language": "python",
   "name": "python3"
  },
  "language_info": {
   "codemirror_mode": {
    "name": "ipython",
    "version": 3
   },
   "file_extension": ".py",
   "mimetype": "text/x-python",
   "name": "python",
   "nbconvert_exporter": "python",
   "pygments_lexer": "ipython3",
   "version": "3.7.6"
  }
 },
 "nbformat": 4,
 "nbformat_minor": 4
}
